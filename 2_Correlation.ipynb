{
 "cells": [
  {
   "cell_type": "markdown",
   "metadata": {},
   "source": [
    "# Correlation\n",
    "**Correlation** is a statistical measure of dependence between two quantities.\n",
    "\n",
    "\n",
    "## Load Packages"
   ]
  },
  {
   "cell_type": "code",
   "execution_count": 1,
   "metadata": {},
   "outputs": [],
   "source": [
    "import numpy as np\n",
    "import matplotlib.pyplot as plt\n",
    "%matplotlib inline"
   ]
  },
  {
   "cell_type": "markdown",
   "metadata": {},
   "source": [
    "## Create Arbitrary Random Data\n",
    "Create random temperature values over some period of days.\n",
    "With y0=32, delta=random within .5 sigma in normal distribution, and coeff of .1 for linearity."
   ]
  },
  {
   "cell_type": "code",
   "execution_count": 2,
   "metadata": {},
   "outputs": [],
   "source": [
    "# Define a function with coefficients\n",
    "f = np.poly1d([.1, 32])\n",
    "# x-values\n",
    "days = np.arange(30)\n",
    "# create noise\n",
    "mu, sigma = 0, .5\n",
    "delta = np.random.normal(scale=.5, size=days.shape[0])\n",
    "# y-values\n",
    "temps = f(days) + delta"
   ]
  },
  {
   "cell_type": "markdown",
   "metadata": {},
   "source": [
    "Generate a linear regression line and plot the values."
   ]
  },
  {
   "cell_type": "code",
   "execution_count": 3,
   "metadata": {},
   "outputs": [
    {
     "data": {
      "image/png": "[encoded data removed]",
      "text/plain": [
       "<Figure size 576x432 with 1 Axes>"
      ]
     },
     "metadata": {},
     "output_type": "display_data"
    }
   ],
   "source": [
    "slope, intercept = np.polyfit(days, temps, deg=1) # set deg 1 for linear.\n",
    "# calculate fitted line\n",
    "fit = intercept + slope*days\n",
    "\n",
    "# Plot w/ fitted line\n",
    "fig, ax = plt.subplots(figsize=(8, 6))\n",
    "ax.scatter(days, temps, label='measured')\n",
    "ax.plot(days, fit, 'r-', label='fit')\n",
    "ax.set_ylabel('Temp')\n",
    "ax.set_xlabel('Day')\n",
    "plt.legend()\n",
    "plt.show()"
   ]
  },
  {
   "cell_type": "markdown",
   "metadata": {},
   "source": [
    "We can assume that there is a correlation in this dataset. But how do we measure the strength? <br>\n",
    "The strength of the linear association between two variables is quantified by the *correlation coefficient, r*. <br>\n",
    "r varies from -1 to 1. Values closer to 1 or -1 indicates high correlation, the latter indicates negatively correlated. Whereas values closer to 0 indicates low correlation.\n",
    "\n",
    "## Find Correlation Coefficient Using Numpy\n",
    "Numpy can leverage the computation of finding r by its method, 'corrcoef'."
   ]
  },
  {
   "cell_type": "code",
   "execution_count": 4,
   "metadata": {},
   "outputs": [
    {
     "data": {
      "text/plain": [
       "0.8747241150979055"
      ]
     },
     "execution_count": 4,
     "metadata": {},
     "output_type": "execute_result"
    }
   ],
   "source": [
    "r = np.corrcoef(days, temps)[0, 1]\n",
    "r"
   ]
  },
  {
   "cell_type": "markdown",
   "metadata": {},
   "source": [
    "## Using Pandas\n",
    "We can also use pandas for finding r."
   ]
  },
  {
   "cell_type": "code",
   "execution_count": 5,
   "metadata": {},
   "outputs": [
    {
     "data": {
      "text/html": [
       "<div>\n",
       "<style scoped>\n",
       "    .dataframe tbody tr th:only-of-type {\n",
       "        vertical-align: middle;\n",
       "    }\n",
       "\n",
       "    .dataframe tbody tr th {\n",
       "        vertical-align: top;\n",
       "    }\n",
       "\n",
       "    .dataframe thead th {\n",
       "        text-align: right;\n",
       "    }\n",
       "</style>\n",
       "<table border=\"1\" class=\"dataframe\">\n",
       "  <thead>\n",
       "    <tr style=\"text-align: right;\">\n",
       "      <th></th>\n",
       "      <th>days</th>\n",
       "      <th>temps</th>\n",
       "    </tr>\n",
       "  </thead>\n",
       "  <tbody>\n",
       "    <tr>\n",
       "      <th>days</th>\n",
       "      <td>1.000000</td>\n",
       "      <td>0.874724</td>\n",
       "    </tr>\n",
       "    <tr>\n",
       "      <th>temps</th>\n",
       "      <td>0.874724</td>\n",
       "      <td>1.000000</td>\n",
       "    </tr>\n",
       "  </tbody>\n",
       "</table>\n",
       "</div>"
      ],
      "text/plain": [
       "           days     temps\n",
       "days   1.000000  0.874724\n",
       "temps  0.874724  1.000000"
      ]
     },
     "execution_count": 5,
     "metadata": {},
     "output_type": "execute_result"
    }
   ],
   "source": [
    "import pandas as pd\n",
    "df = pd.DataFrame({'days': days, 'temps': temps}).corr()\n",
    "df"
   ]
  },
  {
   "cell_type": "code",
   "execution_count": 6,
   "metadata": {},
   "outputs": [
    {
     "data": {
      "text/plain": [
       "0.8747241150979053"
      ]
     },
     "execution_count": 6,
     "metadata": {},
     "output_type": "execute_result"
    }
   ],
   "source": [
    "df.loc['days','temps']"
   ]
  }
 ],
 "metadata": {
  "kernelspec": {
   "display_name": "Python 3",
   "language": "python",
   "name": "python3"
  },
  "language_info": {
   "codemirror_mode": {
    "name": "ipython",
    "version": 3
   },
   "file_extension": ".py",
   "mimetype": "text/x-python",
   "name": "python",
   "nbconvert_exporter": "python",
   "pygments_lexer": "ipython3",
   "version": "3.6.5"
  }
 },
 "nbformat": 4,
 "nbformat_minor": 2
}
